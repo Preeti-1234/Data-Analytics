{
  "nbformat": 4,
  "nbformat_minor": 0,
  "metadata": {
    "kernelspec": {
      "display_name": "Python 3",
      "language": "python",
      "name": "python3"
    },
    "language_info": {
      "codemirror_mode": {
        "name": "ipython",
        "version": 3
      },
      "file_extension": ".py",
      "mimetype": "text/x-python",
      "name": "python",
      "nbconvert_exporter": "python",
      "pygments_lexer": "ipython3",
      "version": "3.7.6"
    },
    "colab": {
      "name": "1_Strings_and_NumbersNA.ipynb_PREETI",
      "provenance": [],
      "collapsed_sections": [
        "-_Ou-6ZQ4zMl"
      ]
    }
  },
  "cells": [
    {
      "cell_type": "markdown",
      "metadata": {
        "id": "EKklPhVn4zL6"
      },
      "source": [
        "# What is Python?\n",
        "\n",
        "\n",
        "Python is a popular programming language. It was created by Guido van Rossum, and released in 1991.\n",
        "\n",
        "It is used for:\n",
        "\n",
        "web development (server-side),\n",
        "software development,\n",
        "mathematics,\n",
        "system scripting."
      ]
    },
    {
      "cell_type": "markdown",
      "metadata": {
        "id": "uBhrjsd84zMC"
      },
      "source": [
        "# What can Python do?\n",
        "\n",
        "Python can be used on a server to create web applications.\n",
        "\n",
        "Python can be used alongside software to create workflows.\n",
        "\n",
        "Python can connect to database systems. It can also read and modify files.\n",
        "\n",
        "Python can be used to handle big data and perform complex mathematics.\n",
        "\n",
        "Python can be used for rapid prototyping, or for production-ready software development."
      ]
    },
    {
      "cell_type": "markdown",
      "metadata": {
        "id": "oCeATGEZ4zMD"
      },
      "source": [
        "# Why Python?\n",
        "\n",
        "Python works on different platforms (Windows, Mac, Linux, Raspberry Pi, etc).\n",
        "\n",
        "Python has a simple syntax similar to the English language.\n",
        "\n",
        "Python has syntax that allows developers to write programs with fewer lines than some other programming languages.\n",
        "\n",
        "Python runs on an interpreter system, meaning that code can be executed as soon as it is written. This means that prototyping can be very quick.\n",
        "\n",
        "Python can be treated in a procedural way, an object-orientated way or a functional way."
      ]
    },
    {
      "cell_type": "markdown",
      "metadata": {
        "id": "ZZ5YQFJi4zMF"
      },
      "source": [
        "# Python Syntax compared to other programming languages\n",
        "\n",
        "Python was designed for readability, and has some similarities to the English language with influence from mathematics.\n",
        "\n",
        "Python uses new lines to complete a command, as opposed to other programming languages which often use semicolons or parentheses.\n",
        "\n",
        "Python relies on indentation, using whitespace, to define scope; such as the scope of loops, functions and classes. Other programming languages often use curly-brackets for this purpose."
      ]
    },
    {
      "cell_type": "markdown",
      "metadata": {
        "id": "4TsMfzed4zMG"
      },
      "source": [
        "# Python Getting Started"
      ]
    },
    {
      "cell_type": "markdown",
      "metadata": {
        "id": "LWJr0KLX4zMG"
      },
      "source": [
        "The way to run a python file is like this on the command line:"
      ]
    },
    {
      "cell_type": "code",
      "metadata": {
        "colab": {
          "base_uri": "https://localhost:8080/"
        },
        "id": "8TFgcHG04zMH",
        "outputId": "87fd0d6e-a013-430d-a86e-c600bc50d0c7"
      },
      "source": [
        "print(\"Hello, world!\")"
      ],
      "execution_count": null,
      "outputs": [
        {
          "output_type": "stream",
          "text": [
            "Hello, world!\n"
          ],
          "name": "stdout"
        }
      ]
    },
    {
      "cell_type": "code",
      "metadata": {
        "colab": {
          "base_uri": "https://localhost:8080/"
        },
        "id": "I6y63U0O4zMK",
        "outputId": "562d1dcf-ab37-4a76-cf69-a358ed3a3daa"
      },
      "source": [
        "name = \"His name is Achal\"\n",
        "cat = 'My cat is named \"Sam\"'\n",
        "print(name)\n",
        "print(cat)"
      ],
      "execution_count": null,
      "outputs": [
        {
          "output_type": "stream",
          "text": [
            "His name is Achal\n",
            "My cat is named \"Sam\"\n"
          ],
          "name": "stdout"
        }
      ]
    },
    {
      "cell_type": "code",
      "metadata": {
        "id": "hgBNMcgs4zMM"
      },
      "source": [
        "#This is a comment."
      ],
      "execution_count": null,
      "outputs": []
    },
    {
      "cell_type": "markdown",
      "metadata": {
        "id": "R18MUnYH4zMQ"
      },
      "source": [
        "Python input() Function"
      ]
    },
    {
      "cell_type": "code",
      "metadata": {
        "id": "bjIgKKDf4zMR",
        "outputId": "4da4f8b2-241d-4226-84e9-5d7fcfb20c83"
      },
      "source": [
        "print('Enter your name:')\n",
        "x = input()\n"
      ],
      "execution_count": null,
      "outputs": [
        {
          "output_type": "stream",
          "text": [
            "Enter your name:\n",
            "nidhi\n"
          ],
          "name": "stdout"
        }
      ]
    },
    {
      "cell_type": "markdown",
      "metadata": {
        "id": "1HiOpsrN4zMS"
      },
      "source": [
        "# Practice cell"
      ]
    },
    {
      "cell_type": "code",
      "metadata": {
        "id": "QerxW0kz4zMS"
      },
      "source": [
        "##Use the prompt parameter to write a message before the input:\n"
      ],
      "execution_count": null,
      "outputs": []
    },
    {
      "cell_type": "markdown",
      "metadata": {
        "id": "p8bWCnNO4zMT"
      },
      "source": [
        "# Python Variables"
      ]
    },
    {
      "cell_type": "markdown",
      "metadata": {
        "id": "g40W5x7a4zMU"
      },
      "source": [
        "Variables are containers for storing data values.\n",
        "\n",
        "Unlike other programming languages, Python has no command for declaring a variable.\n",
        "\n",
        "A variable is created the moment you first assign a value to it."
      ]
    },
    {
      "cell_type": "code",
      "metadata": {
        "id": "SveGONqg4zMV",
        "outputId": "83e33750-d4cc-41f5-c82e-69938a93df10"
      },
      "source": [
        "x = 5\n",
        "y = \"John\"\n",
        "print(x)\n",
        "print(y)"
      ],
      "execution_count": null,
      "outputs": [
        {
          "output_type": "stream",
          "text": [
            "5\n",
            "John\n"
          ],
          "name": "stdout"
        }
      ]
    },
    {
      "cell_type": "markdown",
      "metadata": {
        "id": "GGjiuGph4zMW"
      },
      "source": [
        "# Variable Names\n",
        "\n",
        "A variable can have a short name (like x and y) or a more descriptive name (age, carname, total_volume). Rules for Python variables:\n",
        "\n",
        "A variable name must start with a letter or the underscore character\n",
        "\n",
        "A variable name cannot start with a number\n",
        "\n",
        "A variable name can only contain alpha-numeric characters and underscores (A-z, 0-9, and _ )\n",
        "\n",
        "Variable names are case-sensitive (age, Age and AGE are three different variables)"
      ]
    },
    {
      "cell_type": "markdown",
      "metadata": {
        "id": "uWXLuxHs4zMW"
      },
      "source": [
        "Try it youself"
      ]
    },
    {
      "cell_type": "code",
      "metadata": {
        "id": "K8jbciUL4zMX"
      },
      "source": [
        "#Practice cell"
      ],
      "execution_count": null,
      "outputs": []
    },
    {
      "cell_type": "markdown",
      "metadata": {
        "id": "rdh_rUjS4zMX"
      },
      "source": [
        "# Mutable and immutable variables in python"
      ]
    },
    {
      "cell_type": "markdown",
      "metadata": {
        "id": "k9KwSQ2S4zMY"
      },
      "source": [
        "![1_X3GmUh7dqAMJLM5KwGBKYQ.png](attachment:1_X3GmUh7dqAMJLM5KwGBKYQ.png)"
      ]
    },
    {
      "cell_type": "markdown",
      "metadata": {
        "id": "mnG1VyTF4zMZ"
      },
      "source": [
        "Simple put, a mutable object can be changed after it is created, and an immutable object can’t."
      ]
    },
    {
      "cell_type": "markdown",
      "metadata": {
        "id": "K292Nn9q4zMa"
      },
      "source": [
        "# Built-in Data Types"
      ]
    },
    {
      "cell_type": "markdown",
      "metadata": {
        "id": "cC2-z3Hl4zMa"
      },
      "source": [
        "In programming, data type is an important concept.\n",
        "\n",
        "Variables can store data of different types, and different types can do different things.\n",
        "\n",
        "Python has the following data types built-in by default, in these categories:\n",
        "\n",
        "    Text Type:\tstr\n",
        "\n",
        "    Numeric Types:\tint, float, complex\n",
        "\n",
        "    Sequence Types:\tlist, tuple, range\n",
        "\n",
        "    Mapping Type:\tdict\n",
        "\n",
        "    Set Types:\tset\n",
        "  \n",
        "    Boolean Type:\tbool\n",
        "\n",
        "   "
      ]
    },
    {
      "cell_type": "markdown",
      "metadata": {
        "id": "ODnkY2B24zMb"
      },
      "source": [
        "You can get the data type of any object by using the type() function:"
      ]
    },
    {
      "cell_type": "code",
      "metadata": {
        "id": "5yej22r04zMb",
        "outputId": "cb37cd42-4a79-4bfa-aead-2785bd940549"
      },
      "source": [
        "x = 5\n",
        "print(type(x))"
      ],
      "execution_count": null,
      "outputs": [
        {
          "output_type": "stream",
          "text": [
            "<class 'int'>\n"
          ],
          "name": "stdout"
        }
      ]
    },
    {
      "cell_type": "code",
      "metadata": {
        "id": "74pjM9j54zMc",
        "outputId": "7deaa032-c8e6-4f09-df02-c563ff25c283"
      },
      "source": [
        "x = [\"apple\", \"banana\", \"cherry\"]\n",
        "print(type(x))"
      ],
      "execution_count": null,
      "outputs": [
        {
          "output_type": "stream",
          "text": [
            "<class 'list'>\n"
          ],
          "name": "stdout"
        }
      ]
    },
    {
      "cell_type": "code",
      "metadata": {
        "id": "FySYt7n84zMc",
        "outputId": "aa5d6f48-7b74-4451-ca6d-368438f6e3cb"
      },
      "source": [
        "x = (\"apple\", \"banana\", \"cherry\")\n",
        "print(type(x))"
      ],
      "execution_count": null,
      "outputs": [
        {
          "output_type": "stream",
          "text": [
            "<class 'tuple'>\n"
          ],
          "name": "stdout"
        }
      ]
    },
    {
      "cell_type": "code",
      "metadata": {
        "id": "ze-ib7YR4zMe",
        "outputId": "9fc9d7c0-91c2-4b04-a24f-67b201612f92"
      },
      "source": [
        "x = 20.5\n",
        "print(type(x))"
      ],
      "execution_count": null,
      "outputs": [
        {
          "output_type": "stream",
          "text": [
            "<class 'float'>\n"
          ],
          "name": "stdout"
        }
      ]
    },
    {
      "cell_type": "code",
      "metadata": {
        "id": "JMUWR_VI4zMi",
        "outputId": "208cd6d5-250c-4e2d-a600-203efa7c9b2f"
      },
      "source": [
        "x = 1j\n",
        "print(type(x))"
      ],
      "execution_count": null,
      "outputs": [
        {
          "output_type": "stream",
          "text": [
            "<class 'complex'>\n"
          ],
          "name": "stdout"
        }
      ]
    },
    {
      "cell_type": "code",
      "metadata": {
        "id": "GiSnTyHz4zMk",
        "outputId": "ad393f3f-6850-4e45-fe0a-e562bdbd5309"
      },
      "source": [
        " x= {\"name\" : \"John\", \"age\" : 36}\n",
        "print(type(x))"
      ],
      "execution_count": null,
      "outputs": [
        {
          "output_type": "stream",
          "text": [
            "<class 'dict'>\n"
          ],
          "name": "stdout"
        }
      ]
    },
    {
      "cell_type": "code",
      "metadata": {
        "id": "LD4gAFpH4zMk",
        "outputId": "7a1e8bd5-9c3e-4d3c-d81b-a463db8c818f"
      },
      "source": [
        "x = {\"apple\", \"banana\", \"cherry\"}\n",
        "print(type(x))"
      ],
      "execution_count": null,
      "outputs": [
        {
          "output_type": "stream",
          "text": [
            "<class 'set'>\n"
          ],
          "name": "stdout"
        }
      ]
    },
    {
      "cell_type": "code",
      "metadata": {
        "id": "RLc6sXPH4zMl",
        "outputId": "6019fae1-1a8a-4948-f071-ee1d3e5511e4"
      },
      "source": [
        "x = True\n",
        "print(type(x))"
      ],
      "execution_count": null,
      "outputs": [
        {
          "output_type": "stream",
          "text": [
            "<class 'bool'>\n"
          ],
          "name": "stdout"
        }
      ]
    },
    {
      "cell_type": "code",
      "metadata": {
        "id": "2hcw0Ai54zMl"
      },
      "source": [
        "# Practice cells"
      ],
      "execution_count": null,
      "outputs": []
    },
    {
      "cell_type": "markdown",
      "metadata": {
        "id": "-_Ou-6ZQ4zMl"
      },
      "source": [
        "# Python Strings"
      ]
    },
    {
      "cell_type": "markdown",
      "metadata": {
        "id": "K4KoILe74zMm"
      },
      "source": [
        "#String literals in python are surrounded by either single quotation marks, or double quotation marks"
      ]
    },
    {
      "cell_type": "code",
      "metadata": {
        "id": "uO-RkJq54zMm",
        "outputId": "4f943e82-bc2d-42af-e8f0-f1091bb6db59"
      },
      "source": [
        "num = 100     \n",
        "#num is of type int\n",
        "\n",
        "str = \"Tiya\"      \n",
        "#str is of type string\n",
        "print(num)\n",
        "print(str)"
      ],
      "execution_count": null,
      "outputs": [
        {
          "output_type": "stream",
          "text": [
            "100\n",
            "Tiya\n"
          ],
          "name": "stdout"
        }
      ]
    },
    {
      "cell_type": "code",
      "metadata": {
        "id": "lk-zyGFH4zMm",
        "outputId": "d0bd313d-9def-4fdb-d9bc-3783e1a641ad"
      },
      "source": [
        "#Multiline Strings\n",
        "#You can assign a multiline string to a variable by using three quotes:\n",
        "a=\"\"\"\"Your time is limited, so don't waste it living someone else's life.\n",
        "Don't be trapped by dogma –\n",
        "which is living with the results of other people's thinking.\" -Steve Jobs\"\"\"\n",
        "\n",
        "print(a)"
      ],
      "execution_count": null,
      "outputs": [
        {
          "output_type": "stream",
          "text": [
            "\"Your time is limited, so don't waste it living someone else's life.\n",
            "Don't be trapped by dogma –\n",
            "which is living with the results of other people's thinking.\" -Steve Jobs\n"
          ],
          "name": "stdout"
        }
      ]
    },
    {
      "cell_type": "code",
      "metadata": {
        "colab": {
          "base_uri": "https://localhost:8080/"
        },
        "id": "ZtLtm_6H4zMo",
        "outputId": "b1eda8e2-637d-4bb6-8536-32b5a9447542"
      },
      "source": [
        "#get the first character in the string\n",
        "a = \"Hello, World!\"\n",
        "print(a[0])"
      ],
      "execution_count": null,
      "outputs": [
        {
          "output_type": "stream",
          "text": [
            "H\n"
          ],
          "name": "stdout"
        }
      ]
    },
    {
      "cell_type": "code",
      "metadata": {
        "id": "IH5Dj4T54zMo",
        "outputId": "ad4dddea-ea6a-4a74-e2d9-2407ff9fff39"
      },
      "source": [
        "#Slicing:You can return a range of characters by using the slice syntax.\n",
        "b = \"Hello, World!\"\n",
        "print(b[1:6])"
      ],
      "execution_count": null,
      "outputs": [
        {
          "output_type": "stream",
          "text": [
            "ello,\n"
          ],
          "name": "stdout"
        }
      ]
    },
    {
      "cell_type": "code",
      "metadata": {
        "id": "vtiocfCV4zMp",
        "outputId": "6b4ce713-fb37-4faf-cc94-d6849883bfa2"
      },
      "source": [
        "#Negative Indexing:Use negative indexes to start the slice from the end of the string.\n",
        "b = \"Hello, World!\"\n",
        "print(b[-5:-2])"
      ],
      "execution_count": null,
      "outputs": [
        {
          "output_type": "stream",
          "text": [
            "orl\n"
          ],
          "name": "stdout"
        }
      ]
    },
    {
      "cell_type": "code",
      "metadata": {
        "id": "-_wiLSG14zMq",
        "outputId": "8e14d743-c447-4d8e-a2a5-353bd3f8308c"
      },
      "source": [
        "# Remove white space from the beginning or end of the string\n",
        "#The strip() method removes any whitespace from the beginning or the end.\n",
        "a = \" Hello, World! \"\n",
        "print(a)\n",
        "print(a.rstrip())"
      ],
      "execution_count": null,
      "outputs": [
        {
          "output_type": "stream",
          "text": [
            " Hello, World! \n",
            " Hello, World!\n"
          ],
          "name": "stdout"
        }
      ]
    },
    {
      "cell_type": "code",
      "metadata": {
        "id": "onZpX8ff4zMq",
        "outputId": "2233b9e7-10e3-4d59-8f75-8a9b01991bd3"
      },
      "source": [
        "#String Length:To get the length of a string, use the len() function.\n",
        "a = \"Hello, World!\"\n",
        "print(len(a))"
      ],
      "execution_count": null,
      "outputs": [
        {
          "output_type": "stream",
          "text": [
            "13\n"
          ],
          "name": "stdout"
        }
      ]
    },
    {
      "cell_type": "code",
      "metadata": {
        "id": "evqXChGF4zMr",
        "outputId": "5ebb4520-8511-40f4-f0a3-9dc536966025"
      },
      "source": [
        "# Covert in lower case:The lower() method returns the string in lower case:\n",
        "a = \"Hello, World!\"\n",
        "print(a.lower())"
      ],
      "execution_count": null,
      "outputs": [
        {
          "output_type": "stream",
          "text": [
            "hello, world!\n"
          ],
          "name": "stdout"
        }
      ]
    },
    {
      "cell_type": "code",
      "metadata": {
        "id": "Wrkh4rPr4zMs",
        "outputId": "7a45ca24-0449-4936-ae2d-aeadd51dfe74"
      },
      "source": [
        "#Convert in upper case:The upper() method returns the string in upper case:\n",
        "a = \"Hello, World!\"\n",
        "print(a.upper())\n"
      ],
      "execution_count": null,
      "outputs": [
        {
          "output_type": "stream",
          "text": [
            "HELLO, WORLD!\n"
          ],
          "name": "stdout"
        }
      ]
    },
    {
      "cell_type": "code",
      "metadata": {
        "id": "zt17s3O94zMt",
        "outputId": "7ed17d30-b1d3-4b33-da09-f69f2f130f55"
      },
      "source": [
        "#Replacement of character in string\n",
        "a = \"Hello, World!\"\n",
        "print(a.replace(\"World\", \"Harsh\"))"
      ],
      "execution_count": null,
      "outputs": [
        {
          "output_type": "stream",
          "text": [
            "Hello, Harsh!\n"
          ],
          "name": "stdout"
        }
      ]
    },
    {
      "cell_type": "code",
      "metadata": {
        "id": "2poIQe4T4zMt",
        "outputId": "7b8cd33b-cd43-4f84-c0f7-467aa1392ae3"
      },
      "source": [
        "#Spilt the string in to substring\n",
        "a = \"Hello, World!\"\n",
        "b = a.split(\",\")\n",
        "print(b)"
      ],
      "execution_count": null,
      "outputs": [
        {
          "output_type": "stream",
          "text": [
            "['Hello', ' World!']\n"
          ],
          "name": "stdout"
        }
      ]
    },
    {
      "cell_type": "code",
      "metadata": {
        "colab": {
          "base_uri": "https://localhost:8080/"
        },
        "id": "lJAOej7z4zMw",
        "outputId": "c6276954-573d-4af7-e34b-2460841696a2"
      },
      "source": [
        "#Check String:To check if a certain phrase or character is present in a string, we can use the keywords in or not in.\n",
        "\n",
        "#Check if the phrase \"ain\" is present in the following text:\n",
        "\n",
        "A = \"The rain in Spain stays mainly in the plain\"\n",
        "x = \"rain\" in A\n",
        "print(x)"
      ],
      "execution_count": null,
      "outputs": [
        {
          "output_type": "stream",
          "text": [
            "True\n"
          ],
          "name": "stdout"
        }
      ]
    },
    {
      "cell_type": "code",
      "metadata": {
        "id": "nCAdYg1C4zMx",
        "outputId": "855f1828-97bc-421b-ce19-2c3c97f64d38"
      },
      "source": [
        "#Example:Check if the phrase \"ain\" is NOT present in the following text:\n",
        "\n",
        "txt = \"The rain in Spain stays mainly in the plain\"\n",
        "x = \"xyz\" not in txt\n",
        "print(x) "
      ],
      "execution_count": null,
      "outputs": [
        {
          "output_type": "stream",
          "text": [
            "True\n"
          ],
          "name": "stdout"
        }
      ]
    },
    {
      "cell_type": "code",
      "metadata": {
        "colab": {
          "base_uri": "https://localhost:8080/"
        },
        "id": "7tVK8g8d4zMx",
        "outputId": "3e6563fe-b22e-4df7-f297-67d8878a1871"
      },
      "source": [
        "#String Concatenation:To concatenate, or combine, two strings you can use the + operator.\n",
        "a=\"Hello\"\n",
        "b = \" World\"\n",
        "c = a + b\n",
        "print(c)"
      ],
      "execution_count": null,
      "outputs": [
        {
          "output_type": "stream",
          "text": [
            "Hello World\n"
          ],
          "name": "stdout"
        }
      ]
    },
    {
      "cell_type": "code",
      "metadata": {
        "colab": {
          "base_uri": "https://localhost:8080/"
        },
        "id": "b6y2aZrr4zMy",
        "outputId": "e5e41067-44fc-4ec6-f5c6-95a12cded2b9"
      },
      "source": [
        "#To add a space between them, add a \" \":\n",
        "\n",
        "a = \"Hello\"\n",
        "b = \"World\"\n",
        "c = a + \" \" + b\n",
        "print(c)"
      ],
      "execution_count": null,
      "outputs": [
        {
          "output_type": "stream",
          "text": [
            "Hello World\n"
          ],
          "name": "stdout"
        }
      ]
    },
    {
      "cell_type": "code",
      "metadata": {
        "id": "YWqOZROY4zMz",
        "outputId": "5f4350d3-613c-409c-ad6a-3ad52e79cf36"
      },
      "source": [
        "#combine strings and numbers\n",
        "age = 36\n",
        "print(\"My name is John and I am \", age)\n",
        "A=\"My name is John and I am \"\n",
        "B=36\n",
        "print(A,B)"
      ],
      "execution_count": null,
      "outputs": [
        {
          "output_type": "stream",
          "text": [
            "My name is John and I am  36\n",
            "My name is John and I am  36\n"
          ],
          "name": "stdout"
        }
      ]
    },
    {
      "cell_type": "code",
      "metadata": {
        "id": "O0Dp_wT64zM0",
        "outputId": "6eac576f-2db9-4c49-b053-00c225d417c7"
      },
      "source": [
        "fname = \"NIDHI\"\n",
        "lname = \"ASTHANA\"\n",
        "fullname = fname + \" \" + lname\n",
        "print(\"Your name is:\", fullname)"
      ],
      "execution_count": null,
      "outputs": [
        {
          "output_type": "stream",
          "text": [
            "Your name is: NIDHI ASTHANA\n"
          ],
          "name": "stdout"
        }
      ]
    },
    {
      "cell_type": "code",
      "metadata": {
        "id": "5rE3WSvX4zM0",
        "outputId": "cc8aee91-402f-41e1-c4bf-29819ad364e3"
      },
      "source": [
        "#Example:You will get an error if you use double quotes inside a string that is surrounded by double quotes:\n",
        "\n",
        "txt = \"We are the so-called \"Vikings\" from the north.\"\n",
        "print(txt)"
      ],
      "execution_count": null,
      "outputs": [
        {
          "output_type": "error",
          "ename": "SyntaxError",
          "evalue": "invalid syntax (<ipython-input-30-18df9a987ddd>, line 3)",
          "traceback": [
            "\u001b[1;36m  File \u001b[1;32m\"<ipython-input-30-18df9a987ddd>\"\u001b[1;36m, line \u001b[1;32m3\u001b[0m\n\u001b[1;33m    txt = \"We are the so-called \"Vikings\" from the north.\"\u001b[0m\n\u001b[1;37m                                       ^\u001b[0m\n\u001b[1;31mSyntaxError\u001b[0m\u001b[1;31m:\u001b[0m invalid syntax\n"
          ]
        }
      ]
    },
    {
      "cell_type": "code",
      "metadata": {
        "id": "ySS7M6We4zM3",
        "outputId": "cdbb7c4f-c846-4d0c-c00c-253aec64f223"
      },
      "source": [
        "#To fix this problem, use the escape character \\\":\n",
        "#Example:The escape character allows you to use double quotes when you normally would not be allowed:\n",
        "\n",
        "txt = \"We are the so-called \\\"Vikings\\\" from the north.\"\n",
        "print(txt)"
      ],
      "execution_count": null,
      "outputs": [
        {
          "output_type": "stream",
          "text": [
            "We are the so-called \"Vikings\" from the north.\n"
          ],
          "name": "stdout"
        }
      ]
    },
    {
      "cell_type": "code",
      "metadata": {
        "id": "sHtJEVTQ4zM3"
      },
      "source": [
        "#Other escape characters used in Python:\n",
        "\n",
        "#\\'\tSingle Quote\t\n",
        "#\\\\\tBackslash\t\n",
        "#\\n\tNew Line\t\n",
        "#\\t\tTab\t\n",
        "#\\b\tBackspace\t"
      ],
      "execution_count": null,
      "outputs": []
    },
    {
      "cell_type": "code",
      "metadata": {
        "id": "TIi8tdGd4zM4"
      },
      "source": [
        "#Practice cells\n"
      ],
      "execution_count": null,
      "outputs": []
    },
    {
      "cell_type": "markdown",
      "metadata": {
        "id": "UuqDW8Db4zM4"
      },
      "source": [
        "# Python Numbers"
      ]
    },
    {
      "cell_type": "code",
      "metadata": {
        "id": "CWPOlcD_4zM4",
        "outputId": "e9a01ffc-d7da-45bf-ae11-a7e7b8367d4e"
      },
      "source": [
        "#tThere are three numeric types in Python: Integers, Float and Complex\n",
        "x = 1\n",
        "y = 2.8\n",
        "z = 1j\n",
        "u = 35e3\n",
        "v = 12E4\n",
        "w = -87.7e100\n",
        "\n",
        "print(type(x))\n",
        "print(type(y))\n",
        "print(type(z))\n",
        "print(type(u))\n",
        "print(type(v))\n",
        "print(type(w))\n",
        "\n"
      ],
      "execution_count": null,
      "outputs": [
        {
          "output_type": "stream",
          "text": [
            "<class 'int'>\n",
            "<class 'float'>\n",
            "<class 'complex'>\n",
            "<class 'float'>\n",
            "<class 'float'>\n",
            "<class 'float'>\n"
          ],
          "name": "stdout"
        }
      ]
    },
    {
      "cell_type": "code",
      "metadata": {
        "colab": {
          "base_uri": "https://localhost:8080/"
        },
        "id": "Vxkivlxb4zM5",
        "outputId": "adce2ca1-9907-41b7-8dd7-2f501484c882"
      },
      "source": [
        "#Convert from one type to another:\n",
        "x = 1 # int\n",
        "y = 2.8 # float\n",
        "z = 1j # complex\n",
        "\n",
        "#convert from int to float:\n",
        "a = float(x)\n",
        "\n",
        "#convert from float to int:\n",
        "b = int(y)\n",
        "\n",
        "#convert from int to complex:\n",
        "c = complex(x)\n",
        "\n",
        "print(a)\n",
        "print(b)\n",
        "print(c)\n",
        "\n",
        "print(type(a))\n",
        "print(type(b))\n",
        "print(type(c))\n",
        "\n",
        "\n",
        "#Note: You cannot convert complex numbers into another number type."
      ],
      "execution_count": null,
      "outputs": [
        {
          "output_type": "stream",
          "text": [
            "1.0\n",
            "2\n",
            "(1+0j)\n",
            "<class 'float'>\n",
            "<class 'int'>\n",
            "<class 'complex'>\n"
          ],
          "name": "stdout"
        }
      ]
    },
    {
      "cell_type": "code",
      "metadata": {
        "id": "4m3Q2oQy4zM6"
      },
      "source": [
        "#Practice cells\n"
      ],
      "execution_count": null,
      "outputs": []
    },
    {
      "cell_type": "code",
      "metadata": {
        "id": "69KFD8vn4zM6",
        "outputId": "45cf3863-e7bc-446a-cbbf-9f3b31c6457d"
      },
      "source": [
        "#Random Number\n",
        "#Python does not have a random() function to make a random number, but Python has a built-in module called random that can be used to make random numbers:\n",
        "#Example:Import the random module, and display a random number between 1 and 9:\n",
        "\n",
        "import random\n",
        "\n",
        "print(random.randrange(1,10))"
      ],
      "execution_count": null,
      "outputs": [
        {
          "output_type": "stream",
          "text": [
            "7\n"
          ],
          "name": "stdout"
        }
      ]
    },
    {
      "cell_type": "code",
      "metadata": {
        "id": "2T2Ya3wr4zM7",
        "outputId": "39f8eaeb-b4c6-4893-f73a-83d3797a2105"
      },
      "source": [
        "#Return random number between 0.0 and 1.0:\n",
        "print(random.random())"
      ],
      "execution_count": null,
      "outputs": [
        {
          "output_type": "stream",
          "text": [
            "0.06542933604725976\n"
          ],
          "name": "stdout"
        }
      ]
    },
    {
      "cell_type": "code",
      "metadata": {
        "id": "D6DfAZVV4zM8",
        "outputId": "f120991c-1271-41f3-ee6c-6a15ec3dbe72"
      },
      "source": [
        "#Return a random number between, and included, 20 and 60:\n",
        "print(random.uniform(20, 60))"
      ],
      "execution_count": null,
      "outputs": [
        {
          "output_type": "stream",
          "text": [
            "40.60355121209968\n"
          ],
          "name": "stdout"
        }
      ]
    },
    {
      "cell_type": "code",
      "metadata": {
        "id": "jt-FPvC74zM8",
        "outputId": "8abfe8c1-938b-4036-cd2d-68e72347f3fe"
      },
      "source": [
        "print(random.uniform(10, 15))"
      ],
      "execution_count": null,
      "outputs": [
        {
          "output_type": "stream",
          "text": [
            "10.742643150991542\n"
          ],
          "name": "stdout"
        }
      ]
    },
    {
      "cell_type": "code",
      "metadata": {
        "id": "QaoEZ61f4zM9",
        "outputId": "9fbd07be-e18b-428c-cb9b-5d11e65796a0"
      },
      "source": [
        "#Python uses '=' for assignment and '==' for testing equality. Also '!=' is used to test for non-equality. Try these examples:\n",
        "x = 5\n",
        "y = 5\n",
        "z = 6\n",
        "print(\"x is equal to y: \", x == y)\n",
        "print(\"x is not equal to y: \", x != y)\n",
        "print(\"x is equal to z: \", x == z)\n",
        "print(\"x is not equal to z: \", x != z)"
      ],
      "execution_count": null,
      "outputs": [
        {
          "output_type": "stream",
          "text": [
            "x is equal to y:  True\n",
            "x is not equal to y:  False\n",
            "x is equal to z:  False\n",
            "x is not equal to z:  True\n"
          ],
          "name": "stdout"
        }
      ]
    },
    {
      "cell_type": "code",
      "metadata": {
        "id": "lbDc3WMv4zM_",
        "outputId": "6743c121-e35e-4b50-9ac1-85b418871b93"
      },
      "source": [
        "#abs(num) that computes the absolute value of a number\n",
        "abs(5)\n",
        "abs(-5)"
      ],
      "execution_count": null,
      "outputs": [
        {
          "output_type": "execute_result",
          "data": {
            "text/plain": [
              "5"
            ]
          },
          "metadata": {
            "tags": []
          },
          "execution_count": 9
        }
      ]
    },
    {
      "cell_type": "markdown",
      "metadata": {
        "id": "hG2giI3G4zNE"
      },
      "source": [
        "# Lab Exercises\n"
      ]
    },
    {
      "cell_type": "code",
      "metadata": {
        "colab": {
          "base_uri": "https://localhost:8080/"
        },
        "id": "jb2fhl0p4zNG",
        "outputId": "fc5feccf-3353-4d29-e2ac-9e7e08ef29a1"
      },
      "source": [
        "#Write a Python program to calculate the length of a string. \n",
        "a=(\"Sai Preeti\")\n",
        "len(a)\n"
      ],
      "execution_count": null,
      "outputs": [
        {
          "output_type": "execute_result",
          "data": {
            "text/plain": [
              "10"
            ]
          },
          "metadata": {
            "tags": []
          },
          "execution_count": 8
        }
      ]
    },
    {
      "cell_type": "code",
      "metadata": {
        "colab": {
          "base_uri": "https://localhost:8080/",
          "height": 35
        },
        "id": "sYzALWR54zNH",
        "outputId": "a55852ec-c6f4-4574-fcde-e7343f7be6a7"
      },
      "source": [
        "#Given a string of odd length 7, return a string made of the middle three chars of a given String\n",
        "a=(\"abcdegh\")\n",
        "a[2:5]"
      ],
      "execution_count": null,
      "outputs": [
        {
          "output_type": "execute_result",
          "data": {
            "application/vnd.google.colaboratory.intrinsic+json": {
              "type": "string"
            },
            "text/plain": [
              "'cde'"
            ]
          },
          "metadata": {
            "tags": []
          },
          "execution_count": 12
        }
      ]
    },
    {
      "cell_type": "code",
      "metadata": {
        "colab": {
          "base_uri": "https://localhost:8080/"
        },
        "id": "jr7FpMUY4zNH",
        "outputId": "4c38c75f-2c87-49bd-ca3d-354b967a98c1"
      },
      "source": [
        "#Given a two integer numbers return their product\n",
        "a=5\n",
        "b=2\n",
        "a*b"
      ],
      "execution_count": null,
      "outputs": [
        {
          "output_type": "execute_result",
          "data": {
            "text/plain": [
              "10"
            ]
          },
          "metadata": {
            "tags": []
          },
          "execution_count": 13
        }
      ]
    },
    {
      "cell_type": "code",
      "metadata": {
        "colab": {
          "base_uri": "https://localhost:8080/"
        },
        "id": "KNt_ttvu4zNI",
        "outputId": "95d1c3df-e34f-405c-933f-6451512e8334"
      },
      "source": [
        "#Write a program to check if the letter 'e' is present in the word 'Umbrella'.\n",
        "a='Umbrella'\n",
        "x='e' in a\n",
        "print(x)"
      ],
      "execution_count": null,
      "outputs": [
        {
          "output_type": "stream",
          "text": [
            "True\n"
          ],
          "name": "stdout"
        }
      ]
    },
    {
      "cell_type": "code",
      "metadata": {
        "colab": {
          "base_uri": "https://localhost:8080/"
        },
        "id": "geHQd8QZ4zNJ",
        "outputId": "0d7975df-2273-4c51-f058-26d79a62eccc"
      },
      "source": [
        "#Write a program to check if the word 'orange' is present in the \"This is orange juice\".\n",
        "a= \"This is orange juice\"\n",
        "x= 'orange'in a\n",
        "print(x)"
      ],
      "execution_count": null,
      "outputs": [
        {
          "output_type": "stream",
          "text": [
            "True\n"
          ],
          "name": "stdout"
        }
      ]
    },
    {
      "cell_type": "code",
      "metadata": {
        "colab": {
          "base_uri": "https://localhost:8080/"
        },
        "id": "_WdYakt-4zNK",
        "outputId": "59273876-9ba1-4d5b-d9e4-d29b5793d440"
      },
      "source": [
        "#Given two numbers num1 and num2. The task is to write a Python program to find the addition of these two numbers.\n",
        "num1=3\n",
        "num2=5\n",
        "num1+num2"
      ],
      "execution_count": null,
      "outputs": [
        {
          "output_type": "execute_result",
          "data": {
            "text/plain": [
              "8"
            ]
          },
          "metadata": {
            "tags": []
          },
          "execution_count": 21
        }
      ]
    },
    {
      "cell_type": "code",
      "metadata": {
        "id": "Cn7G49b44zNK",
        "outputId": "5d5c27a2-49d5-42ad-a8f2-7f8caef3998f"
      },
      "source": [
        "#Write a Python program to convert degree to radian.\n",
        "pi=22/7\n",
        "degree = float(input(\"Input degrees: \"))\n",
        "radian = degree*(pi/180)\n",
        "print(radian)"
      ],
      "execution_count": null,
      "outputs": [
        {
          "output_type": "stream",
          "text": [
            "Input degrees: 30\n",
            "0.5238095238095238\n"
          ],
          "name": "stdout"
        }
      ]
    },
    {
      "cell_type": "code",
      "metadata": {
        "colab": {
          "base_uri": "https://localhost:8080/"
        },
        "id": "TJkH9iCN4zNL",
        "outputId": "c3a12cb4-fd0f-489e-87cd-aa38553401a9"
      },
      "source": [
        "# Write a Python program to convert radian to degree\n",
        "pi=22/7\n",
        "radian = float(input(\"Enter Radian\"))\n",
        "degree = radian * (180/pi)\n",
        "print (degree)"
      ],
      "execution_count": null,
      "outputs": [
        {
          "output_type": "stream",
          "text": [
            "Enter Radian3.142\n",
            "179.95090909090908\n"
          ],
          "name": "stdout"
        }
      ]
    },
    {
      "cell_type": "code",
      "metadata": {
        "id": "brsvM59H4zNL",
        "outputId": "9dbc1e29-04c2-43d1-b16b-c85a681fc9d4"
      },
      "source": [
        "#Write a Python program to calculate surface volume and area of a sphere. \n",
        "pi=22/7\n",
        "radian = float(input('Radius of sphere: '))\n",
        "sur_area = 4 * pi * radian **2\n",
        "volume = (4/3) * (pi * radian ** 3)\n",
        "print(\"Surface Area is: \", sur_area)\n",
        "print(\"Volume is: \", volume)"
      ],
      "execution_count": null,
      "outputs": [
        {
          "output_type": "stream",
          "text": [
            "Radius of sphere: 2\n",
            "Surface Area is:  50.285714285714285\n",
            "Volume is:  33.52380952380952\n"
          ],
          "name": "stdout"
        }
      ]
    },
    {
      "cell_type": "code",
      "metadata": {
        "colab": {
          "base_uri": "https://localhost:8080/"
        },
        "id": "wcwdWERi4zNM",
        "outputId": "62405df5-fe55-479b-a321-eea268d9519a"
      },
      "source": [
        "#Write a Python program to calculate surface volume and area of a cylinder\n",
        "pi=22/7\n",
        "r=float(input(\"Enter Radius\"))\n",
        "h=float(input(\"Enter Height\"))\n",
        "V= float(pi* r**2 *h)\n",
        "print(V)"
      ],
      "execution_count": null,
      "outputs": [
        {
          "output_type": "stream",
          "text": [
            "Enter Radius7\n",
            "Enter Height7\n",
            "1078.0\n"
          ],
          "name": "stdout"
        }
      ]
    },
    {
      "cell_type": "code",
      "metadata": {
        "id": "bAfb7zy94zNN"
      },
      "source": [
        "#Write a program to prompt the user for hours and rate per hour to compute gross pay."
      ],
      "execution_count": null,
      "outputs": []
    },
    {
      "cell_type": "code",
      "metadata": {
        "colab": {
          "base_uri": "https://localhost:8080/"
        },
        "id": "f6QJFtou4zNO",
        "outputId": "c2f98136-7abf-435f-f421-618e39e9b535"
      },
      "source": [
        "time= int(input(\" enter hour \"))\n",
        "rate= int(input(\"Enter rate per hour\"))\n",
        "grosspay= int(time*rate)\n",
        "print(grosspay)\n"
      ],
      "execution_count": null,
      "outputs": [
        {
          "output_type": "stream",
          "text": [
            " enter hour 7\n",
            "Enter rate per hour2\n",
            "14\n"
          ],
          "name": "stdout"
        }
      ]
    }
  ]
}